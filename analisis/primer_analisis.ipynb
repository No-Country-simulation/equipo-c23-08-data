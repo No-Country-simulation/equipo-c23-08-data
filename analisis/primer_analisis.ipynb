Hola esta es una edicion
